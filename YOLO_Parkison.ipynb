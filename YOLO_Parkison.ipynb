{
  "cells": [
    {
      "metadata": {
        "id": "8a77807f92f26ee"
      },
      "cell_type": "markdown",
      "source": [
        "# **Identificação da doença de Parkinson através de desenhos espirais e senoides**\n",
        "\n",
        "**Grupo**\n",
        "* Amanda Valukas Breviglieri Joioso\n",
        "* Pedro Augusto Martins Gagini\n",
        "* Pedro Henrique Salmaze\n"
      ],
      "id": "8a77807f92f26ee"
    },
    {
      "cell_type": "markdown",
      "source": [
        "# Introdução\n",
        "\n",
        "Este notebook tem como objetivo aplicar algoritmo de **redes neurais convolucionais** para a tarefa de **classificação de imagens** de desenhos espirais e senoides, com foco na **identificação da doença de Parkinson**. Esta abordagem será contrastada com outra versão do projeto baseada em **métodos de aprendizado de máquina tradicionais**. A base de dados utilizada pode ser obtida em https://www.kaggle.com/datasets/cornelioac/parkinson-yolo-dataset\n",
        "\n",
        "\n",
        "# Metodologia\n",
        "\n",
        "* Utilizou-se o modelo **YOLOv11n-cls** para classificação de imagens, adaptando um dataset originalmente formatado para detecção.\n",
        "* As imagens foram reorganizadas em pastas por rótulo, seguindo o formato da **Ultralytics**.\n",
        "* O treinamento foi feito com validação cruzada estratificada (**5 folds**), por **64 épocas**, com **batch size 16** e imagens de **512x512 pixels**.\n",
        "* Aplicaram-se técnicas de aumento de dados como **mosaic** e **copy-paste**.\n",
        "* As principais métricas avaliadas foram: **acurácia**, **precisão**, **recall** e **F1-score (macro, micro e ponderada)**.\n",
        "* O treinamento total levou cerca de **30 minutos** em um notebook com i5 de 13ª geração e GPU RTX 3050 Mobile.\n",
        "\n",
        "\n",
        "\n",
        "# Principais Resultados\n",
        "\n",
        "* O modelo **YOLO11n-cls** apresentou uma acurácia média de 0.882 entre os folds,\n",
        "com o melhor fold chegando a 0.929, enquanto o máximo registrado por um\n",
        "algoritmo clássico foi de 0.827.\n",
        "\n",
        "* Nas outras métricas, o modelo também desempenhou muito bem, com uma\n",
        "média de **0.6 pontos a mais** que os modelos clássicos.\n",
        "\n",
        "* Tudo isso com um tempo baixo de treinamento, cerca de **30 minutos**, em um\n",
        "hardware relativamente simples, considerando o padrão moderno para\n",
        "treinamento de modelos de IA.\n",
        "\n",
        "Com esses resultados, percebemos que, com o pipeline de classificação automática baseado em **YOLO**, superamos os métodos clássicos baseados em features."
      ],
      "metadata": {
        "id": "3iEb-7JuuJOW"
      },
      "id": "3iEb-7JuuJOW"
    },
    {
      "cell_type": "markdown",
      "source": [
        "# **Instalações e imports**"
      ],
      "metadata": {
        "id": "bGl0gb4FwT76"
      },
      "id": "bGl0gb4FwT76"
    },
    {
      "metadata": {
        "ExecuteTime": {
          "end_time": "2025-05-20T04:31:31.043224Z",
          "start_time": "2025-05-20T04:31:31.039303Z"
        },
        "id": "2ab9e5913ca77c8d"
      },
      "cell_type": "code",
      "source": [
        "#%pip uninstall torch torchvision torchaudio\n",
        "#%pip install torch torchvision torchaudio --index-url https://download.pytorch.org/whl/cu118"
      ],
      "id": "2ab9e5913ca77c8d",
      "outputs": [],
      "execution_count": null
    },
    {
      "metadata": {
        "ExecuteTime": {
          "end_time": "2025-05-20T04:31:36.641816Z",
          "start_time": "2025-05-20T04:31:31.056233Z"
        },
        "id": "fbc121e30a2defb3"
      },
      "cell_type": "code",
      "source": [
        "import shutil\n",
        "import random\n",
        "import json\n",
        "import matplotlib.pyplot as plt\n",
        "import kagglehub\n",
        "import matplotlib.image as mpimg\n",
        "import matplotlib.patches as patches\n",
        "from sklearn.model_selection import KFold, train_test_split\n",
        "from pathlib import Path\n",
        "import yaml\n",
        "import torch\n",
        "import os\n",
        "from ultralytics import YOLO"
      ],
      "id": "fbc121e30a2defb3",
      "outputs": [],
      "execution_count": null
    },
    {
      "metadata": {
        "ExecuteTime": {
          "end_time": "2025-05-20T04:31:37.055276Z",
          "start_time": "2025-05-20T04:31:37.031275Z"
        },
        "id": "dafe981ece11bb79",
        "outputId": "b0642530-c6ac-4721-8553-73fa53636ec0"
      },
      "cell_type": "code",
      "source": [
        "# Ver estado da GPU\n",
        "print(os.environ.get('CUDA_VISIBLE_DEVICES'))  # Should be None\n",
        "print(torch.cuda.is_available())\n",
        "print(torch.cuda.device_count())\n",
        "print(torch.cuda.get_device_name(0))"
      ],
      "id": "dafe981ece11bb79",
      "outputs": [
        {
          "name": "stdout",
          "output_type": "stream",
          "text": [
            "None\n",
            "True\n",
            "1\n",
            "NVIDIA GeForce RTX 3050 6GB Laptop GPU\n"
          ]
        }
      ],
      "execution_count": null
    },
    {
      "metadata": {
        "ExecuteTime": {
          "end_time": "2025-05-20T04:31:37.728477Z",
          "start_time": "2025-05-20T04:31:37.154352Z"
        },
        "id": "fe3e9bb141ccd64c",
        "outputId": "bfd52726-0273-4ec0-bc00-dfd8b5ee25da"
      },
      "cell_type": "code",
      "source": [
        "# Download latest version\n",
        "path = kagglehub.dataset_download(\"cornelioac/parkinson-yolo-dataset\")\n",
        "\n",
        "print(\"Path to dataset files:\", path)"
      ],
      "id": "fe3e9bb141ccd64c",
      "outputs": [
        {
          "name": "stdout",
          "output_type": "stream",
          "text": [
            "Path to dataset files: C:\\Users\\osval\\.cache\\kagglehub\\datasets\\cornelioac\\parkinson-yolo-dataset\\versions\\4\n"
          ]
        }
      ],
      "execution_count": null
    },
    {
      "metadata": {
        "ExecuteTime": {
          "end_time": "2025-05-20T04:31:37.741962Z",
          "start_time": "2025-05-20T04:31:37.736960Z"
        },
        "id": "97f6521ee684aa8a",
        "outputId": "3770a133-8ed8-4710-d3f6-e6d10adc3976"
      },
      "cell_type": "code",
      "source": [
        "# Listar todos os arquivos e pastas no caminho do dataset\n",
        "conteudo_da_pasta = os.listdir(path)\n",
        "\n",
        "# Imprimir o conteúdo\n",
        "for item in conteudo_da_pasta:\n",
        "  print(item)"
      ],
      "id": "97f6521ee684aa8a",
      "outputs": [
        {
          "name": "stdout",
          "output_type": "stream",
          "text": [
            "YOLODatasetFull\n"
          ]
        }
      ],
      "execution_count": null
    },
    {
      "metadata": {
        "ExecuteTime": {
          "end_time": "2025-05-20T04:31:37.781704Z",
          "start_time": "2025-05-20T04:31:37.776701Z"
        },
        "id": "64b30fecde86113c",
        "outputId": "4e72f847-d274-4c76-80a5-2c54ae3a6d75"
      },
      "cell_type": "code",
      "source": [
        "# Caminho para a pasta 'YOLODatasetFull'\n",
        "pasta_dataset = os.path.join(path, 'YOLODatasetFull')\n",
        "\n",
        "# Listar o conteúdo da pasta\n",
        "conteudo_da_pasta = os.listdir(pasta_dataset)\n",
        "\n",
        "# Imprimir o conteúdo\n",
        "for item in conteudo_da_pasta:\n",
        "  print(item)"
      ],
      "id": "64b30fecde86113c",
      "outputs": [
        {
          "name": "stdout",
          "output_type": "stream",
          "text": [
            "dataset.yaml\n",
            "images\n",
            "labels\n"
          ]
        }
      ],
      "execution_count": null
    },
    {
      "cell_type": "markdown",
      "source": [
        "# **Inicialização**"
      ],
      "metadata": {
        "id": "URMvZ7ESwero"
      },
      "id": "URMvZ7ESwero"
    },
    {
      "metadata": {
        "ExecuteTime": {
          "end_time": "2025-05-20T04:31:52.760591Z",
          "start_time": "2025-05-20T04:31:37.809524Z"
        },
        "id": "136cd49cb1409efb",
        "outputId": "fdd86448-e4f4-4151-9da3-5a4990592763"
      },
      "cell_type": "code",
      "source": [
        "# Define the working directory\n",
        "working_dir = '/kaggle/working/'\n",
        "\n",
        "# Create 'all_images' and 'all_labels' in the working directory\n",
        "all_images_dir = os.path.join(working_dir, 'all_images')\n",
        "all_labels_dir = os.path.join(working_dir, 'all_labels')\n",
        "\n",
        "os.makedirs(all_images_dir, exist_ok=True)\n",
        "os.makedirs(all_labels_dir, exist_ok=True)\n",
        "\n",
        "# Caminho para a pasta 'YOLODatasetFull'\n",
        "pasta_dataset = os.path.join(path, 'YOLODatasetFull')\n",
        "\n",
        "# Caminho para as pastas 'images' e 'labels'\n",
        "pasta_imagens = os.path.join(pasta_dataset, 'images')\n",
        "pasta_labels = os.path.join(pasta_dataset, 'labels')\n",
        "\n",
        "# Concatenate images e labels\n",
        "for pasta in ['train', 'val']:\n",
        "    pasta_origem_imagens = os.path.join(pasta_imagens, pasta)\n",
        "    pasta_origem_labels = os.path.join(pasta_labels, pasta)\n",
        "\n",
        "    # Gerar a lista ordenada de nomes de imagens\n",
        "    lista_nomes_imagens = sorted(os.listdir(pasta_origem_imagens))\n",
        "    lista_nomes_labels = sorted(os.listdir(pasta_origem_labels))\n",
        "\n",
        "    # Salvar a lista em um arquivo JSON\n",
        "    with open('ordem_imagens.json', 'w') as f:\n",
        "        json.dump(lista_nomes_imagens, f)\n",
        "\n",
        "    with open('ordem_labels.json', 'w') as f:\n",
        "        json.dump(lista_nomes_labels, f)\n",
        "\n",
        "    # Iterar sobre os arquivos ordenados e copiar para all_images_dir e all_labels_dir\n",
        "    for nome_arquivo in lista_nomes_imagens:\n",
        "        shutil.copy(os.path.join(pasta_origem_imagens, nome_arquivo), all_images_dir)\n",
        "\n",
        "    for nome_arquivo in lista_nomes_labels:\n",
        "        shutil.copy(os.path.join(pasta_origem_labels, nome_arquivo), all_labels_dir)\n",
        "\n",
        "print(\"Imagens e labels concatenadas com sucesso!\")\n",
        "\n",
        "# Carregar a lista de nomes do arquivo JSON\n",
        "with open('ordem_imagens.json', 'r') as f:\n",
        "    lista_nomes_imagens = json.load(f)\n",
        "\n",
        "with open('ordem_labels.json', 'r') as f:\n",
        "    lista_nomes_labels = json.load(f)\n",
        "\n",
        "# Ordenar as imagens usando a lista carregada\n",
        "imagens_ordenadas = [img for img in os.listdir(all_images_dir) if img in lista_nomes_imagens]\n",
        "imagens_ordenadas.sort(key=lambda x: lista_nomes_imagens.index(x))\n",
        "\n",
        "# Ordenar os labels usando a lista carregada\n",
        "labels_ordenadas = [img for img in os.listdir(all_labels_dir) if img in lista_nomes_labels]\n",
        "labels_ordenadas.sort(key=lambda x: lista_nomes_labels.index(x))\n",
        "\n",
        "# Agora você pode usar 'imagens_ordenadas' para acessar as imagens na ordem desejada\n",
        "print(\"Imagens e labels ordenadas com base na lista salva.\")"
      ],
      "id": "136cd49cb1409efb",
      "outputs": [
        {
          "name": "stdout",
          "output_type": "stream",
          "text": [
            "Imagens e labels concatenadas com sucesso!\n",
            "Imagens e labels ordenadas com base na lista salva.\n"
          ]
        }
      ],
      "execution_count": null
    },
    {
      "cell_type": "markdown",
      "source": [
        "**Exemplo**"
      ],
      "metadata": {
        "id": "QppYZiHVwiRl"
      },
      "id": "QppYZiHVwiRl"
    },
    {
      "metadata": {
        "ExecuteTime": {
          "end_time": "2025-05-20T04:31:52.937844Z",
          "start_time": "2025-05-20T04:31:52.789077Z"
        },
        "id": "891c04ea24de5eba",
        "outputId": "fedfc35e-8f08-4fcb-88f5-5442db22ccbb"
      },
      "cell_type": "code",
      "source": [
        "numero_aleatorio = random.randint(0, len(imagens_ordenadas) - 1)\n",
        "print(f\"A imagem exibida é de numero: {numero_aleatorio}\")\n",
        "\n",
        "# Caminhos\n",
        "caminho_imagem = os.path.join(all_images_dir, imagens_ordenadas[numero_aleatorio])\n",
        "caminho_label = os.path.join(all_labels_dir, labels_ordenadas[numero_aleatorio])\n",
        "\n",
        "# Carrega imagem\n",
        "imagem = mpimg.imread(caminho_imagem)\n",
        "altura, largura = imagem.shape[0], imagem.shape[1]\n",
        "\n",
        "# Cria figura\n",
        "fig, ax = plt.subplots(1)\n",
        "ax.imshow(imagem)\n",
        "\n",
        "# Lê o arquivo de labels (YOLO format)\n",
        "with open(caminho_label, 'r') as f:\n",
        "    linhas = f.readlines()\n",
        "\n",
        "# Desenha cada bounding box\n",
        "for linha in linhas:\n",
        "    class_id, x_center, y_center, width, height = map(float, linha.strip().split())\n",
        "\n",
        "    # Converte coordenadas normalizadas para pixels\n",
        "    x_center *= largura\n",
        "    y_center *= altura\n",
        "    width *= largura\n",
        "    height *= altura\n",
        "    x_min = x_center - width / 2\n",
        "    y_min = y_center - height / 2\n",
        "\n",
        "    # Desenha o retângulo\n",
        "    rect = patches.Rectangle((x_min, y_min), width, height, linewidth=2, edgecolor='red', facecolor='none')\n",
        "    ax.add_patch(rect)\n",
        "    ax.text(x_min, y_min - 5, f\"Classe {int(class_id)}\", color='red', fontsize=10, weight='bold')\n",
        "\n",
        "plt.axis('off')\n",
        "plt.show()"
      ],
      "id": "891c04ea24de5eba",
      "outputs": [
        {
          "name": "stdout",
          "output_type": "stream",
          "text": [
            "A imagem exibida é de numero: 50\n"
          ]
        },
        {
          "data": {
            "text/plain": [
              "<Figure size 640x480 with 1 Axes>"
            ],
            "image/png": "[encoded data removed]"
          },
          "metadata": {},
          "output_type": "display_data"
        }
      ],
      "execution_count": null
    },
    {
      "cell_type": "markdown",
      "source": [
        "# **Organização**"
      ],
      "metadata": {
        "id": "LlqiFZ83wpfy"
      },
      "id": "LlqiFZ83wpfy"
    },
    {
      "metadata": {
        "ExecuteTime": {
          "end_time": "2025-05-20T04:32:11.226456Z",
          "start_time": "2025-05-20T04:31:52.960798Z"
        },
        "id": "9364744883c4caf",
        "outputId": "b5748a63-924e-4c78-8e1e-20e8975c3644"
      },
      "cell_type": "code",
      "source": [
        "# Parâmetros\n",
        "test_size = 0.15  # 15% para teste\n",
        "random_state = 42\n",
        "k = 5\n",
        "\n",
        "# Diretórios base\n",
        "folds_base = os.path.join(working_dir, \"yolo_folds\")\n",
        "test_base = os.path.join(working_dir, \"yolo_test\")\n",
        "\n",
        "# 1. Separar conjunto de teste fixo\n",
        "train_val_imgs, test_imgs, train_val_labels, test_labels = train_test_split(\n",
        "    imagens_ordenadas, labels_ordenadas,\n",
        "    test_size=test_size,\n",
        "    random_state=random_state,\n",
        "    shuffle=True\n",
        ")\n",
        "\n",
        "# Criar pasta para teste\n",
        "test_path = Path(test_base)\n",
        "(test_path / \"images\").mkdir(parents=True, exist_ok=True)\n",
        "(test_path / \"labels\").mkdir(parents=True, exist_ok=True)\n",
        "\n",
        "# Copiar arquivos do conjunto de teste\n",
        "for img_name, lbl_name in zip(test_imgs, test_labels):\n",
        "    shutil.copy(os.path.join(all_images_dir, img_name), test_path / \"images\" / img_name)\n",
        "    shutil.copy(os.path.join(all_labels_dir, lbl_name), test_path / \"labels\" / lbl_name)\n",
        "\n",
        "# Criar arquivo dataset.yaml para teste\n",
        "test_yaml = {\n",
        "    'test': str(test_path / 'images'),\n",
        "    'nc': 4,\n",
        "    'names': ['healthy spiral', 'healthy wave', 'parkinson spiral', 'parkinson wave']\n",
        "}\n",
        "\n",
        "with open(test_path / 'dataset.yaml', 'w') as f:\n",
        "    yaml.dump(test_yaml, f)\n",
        "\n",
        "print(\"Conjunto de teste criado!\")\n",
        "print(f\"\\nTotal de imagens no conjunto de teste: {len(test_imgs)}\")\n",
        "\n",
        "# 2. Criar os folds para treino/validação usando o restante dos dados\n",
        "kf = KFold(n_splits=k, shuffle=True, random_state=random_state)\n",
        "\n",
        "for fold, (train_idx, val_idx) in enumerate(kf.split(train_val_imgs)):\n",
        "    print(f\"\\nCriando fold {fold}\")\n",
        "    print(f\" - Treino: {len(train_idx)} imagens\")\n",
        "    print(f\" - Validação: {len(val_idx)} imagens\")\n",
        "\n",
        "    fold_path = Path(f\"{folds_base}/fold{fold}\")\n",
        "    for split in ['train', 'val']:\n",
        "        (fold_path / f\"images/{split}\").mkdir(parents=True, exist_ok=True)\n",
        "        (fold_path / f\"labels/{split}\").mkdir(parents=True, exist_ok=True)\n",
        "\n",
        "    # Copiar arquivos de treino e validação para cada fold\n",
        "    for split, idxs in [('train', train_idx), ('val', val_idx)]:\n",
        "        for i in idxs:\n",
        "            img_name = train_val_imgs[i]\n",
        "            lbl_name = train_val_labels[i]\n",
        "\n",
        "            shutil.copy(os.path.join(all_images_dir, img_name), fold_path / f\"images/{split}\" / img_name)\n",
        "            shutil.copy(os.path.join(all_labels_dir, lbl_name), fold_path / f\"labels/{split}\" / lbl_name)\n",
        "\n",
        "    # Criar arquivo dataset.yaml para o fold atual\n",
        "    data_yaml = {\n",
        "        'train': str(fold_path / 'images/train'),\n",
        "        'val': str(fold_path / 'images/val'),\n",
        "        'nc': 4,\n",
        "        'names': ['healthy spiral', 'healthy wave', 'parkinson spiral', 'parkinson wave']\n",
        "    }\n",
        "\n",
        "    with open(fold_path / 'dataset.yaml', 'w') as f:\n",
        "        yaml.dump(data_yaml, f)\n",
        "\n",
        "    print(f\"Fold {fold} pronto!\")"
      ],
      "id": "9364744883c4caf",
      "outputs": [
        {
          "name": "stdout",
          "output_type": "stream",
          "text": [
            "Conjunto de teste criado!\n",
            "\n",
            "Total de imagens no conjunto de teste: 113\n",
            "\n",
            "Criando fold 0\n",
            " - Treino: 507 imagens\n",
            " - Validação: 127 imagens\n",
            "Fold 0 pronto!\n",
            "\n",
            "Criando fold 1\n",
            " - Treino: 507 imagens\n",
            " - Validação: 127 imagens\n",
            "Fold 1 pronto!\n",
            "\n",
            "Criando fold 2\n",
            " - Treino: 507 imagens\n",
            " - Validação: 127 imagens\n",
            "Fold 2 pronto!\n",
            "\n",
            "Criando fold 3\n",
            " - Treino: 507 imagens\n",
            " - Validação: 127 imagens\n",
            "Fold 3 pronto!\n",
            "\n",
            "Criando fold 4\n",
            " - Treino: 508 imagens\n",
            " - Validação: 126 imagens\n",
            "Fold 4 pronto!\n"
          ]
        }
      ],
      "execution_count": null
    },
    {
      "metadata": {
        "ExecuteTime": {
          "end_time": "2025-05-20T04:32:11.321068Z",
          "start_time": "2025-05-20T04:32:11.238635Z"
        },
        "id": "4769c41afb5ebc0",
        "outputId": "4680c749-80f1-4124-f1d6-e3c779ae85c3"
      },
      "cell_type": "code",
      "source": [
        "# Caminho base onde os folds estão salvos\n",
        "base_folds_path = Path('/kaggle/working/yolo_folds')\n",
        "\n",
        "# Caminho do conjunto de teste\n",
        "test_path = Path('/kaggle/working/yolo_test/dataset.yaml')\n",
        "\n",
        "# Imprime o conteúdo do dataset.yaml do conjunto de teste\n",
        "print(f\"\\nConteúdo do conjunto de teste dataset.yaml:\")\n",
        "with open(test_path, 'r') as f:\n",
        "    print(f.read())\n",
        "\n",
        "# Itera por todas as pastas fold*/dataset.yaml e imprime o conteúdo\n",
        "for fold_yaml_path in sorted(base_folds_path.glob('fold*/dataset.yaml')):\n",
        "    print(f\"\\nConteúdo de {fold_yaml_path.parent.name}/dataset.yaml:\")\n",
        "    with open(fold_yaml_path, 'r') as f:\n",
        "        print(f.read())"
      ],
      "id": "4769c41afb5ebc0",
      "outputs": [
        {
          "name": "stdout",
          "output_type": "stream",
          "text": [
            "\n",
            "Conteúdo do conjunto de teste dataset.yaml:\n",
            "names:\n",
            "- healthy spiral\n",
            "- healthy wave\n",
            "- parkinson spiral\n",
            "- parkinson wave\n",
            "nc: 4\n",
            "test: \\kaggle\\working\\yolo_test\\images\n",
            "\n",
            "\n",
            "Conteúdo de fold0/dataset.yaml:\n",
            "names:\n",
            "- healthy spiral\n",
            "- healthy wave\n",
            "- parkinson spiral\n",
            "- parkinson wave\n",
            "nc: 4\n",
            "train: \\kaggle\\working\\yolo_folds\\fold0\\images\\train\n",
            "val: \\kaggle\\working\\yolo_folds\\fold0\\images\\val\n",
            "\n",
            "\n",
            "Conteúdo de fold1/dataset.yaml:\n",
            "names:\n",
            "- healthy spiral\n",
            "- healthy wave\n",
            "- parkinson spiral\n",
            "- parkinson wave\n",
            "nc: 4\n",
            "train: \\kaggle\\working\\yolo_folds\\fold1\\images\\train\n",
            "val: \\kaggle\\working\\yolo_folds\\fold1\\images\\val\n",
            "\n",
            "\n",
            "Conteúdo de fold2/dataset.yaml:\n",
            "names:\n",
            "- healthy spiral\n",
            "- healthy wave\n",
            "- parkinson spiral\n",
            "- parkinson wave\n",
            "nc: 4\n",
            "train: \\kaggle\\working\\yolo_folds\\fold2\\images\\train\n",
            "val: \\kaggle\\working\\yolo_folds\\fold2\\images\\val\n",
            "\n",
            "\n",
            "Conteúdo de fold3/dataset.yaml:\n",
            "names:\n",
            "- healthy spiral\n",
            "- healthy wave\n",
            "- parkinson spiral\n",
            "- parkinson wave\n",
            "nc: 4\n",
            "train: \\kaggle\\working\\yolo_folds\\fold3\\images\\train\n",
            "val: \\kaggle\\working\\yolo_folds\\fold3\\images\\val\n",
            "\n",
            "\n",
            "Conteúdo de fold4/dataset.yaml:\n",
            "names:\n",
            "- healthy spiral\n",
            "- healthy wave\n",
            "- parkinson spiral\n",
            "- parkinson wave\n",
            "nc: 4\n",
            "train: \\kaggle\\working\\yolo_folds\\fold4\\images\\train\n",
            "val: \\kaggle\\working\\yolo_folds\\fold4\\images\\val\n",
            "\n"
          ]
        }
      ],
      "execution_count": null
    },
    {
      "metadata": {
        "id": "2dd6e11f0779a9ce"
      },
      "cell_type": "markdown",
      "source": [
        "# **Formatação dos dados**\n",
        "O dataset está formatado para a YOLO de detecção, mas no nosso caso a YOLO de classificação é a mais recomendada."
      ],
      "id": "2dd6e11f0779a9ce"
    },
    {
      "metadata": {
        "id": "f5feb3552dedf405"
      },
      "cell_type": "code",
      "source": [
        "# pasta yolo folds: base_folds_path\n",
        "\n",
        "for directory in os.listdir(base_folds_path):\n",
        "\n",
        "    pastas = ['train', 'val']\n",
        "    subpastas = ['0', '1', '2', '3']\n",
        "    basedir = os.path.join(base_folds_path, directory)\n",
        "\n",
        "    for pasta in pastas:\n",
        "        newdir = os.path.join(basedir, pasta)\n",
        "        for sub in subpastas:\n",
        "            caminho = os.path.join(newdir, sub)\n",
        "            print(f\"Criando diretório: {caminho}\")\n",
        "            os.makedirs(caminho, exist_ok=True)\n",
        "\n",
        "    images_dir = os.path.join(basedir, \"images\\\\train\")\n",
        "    labels_dir = os.path.join(basedir, \"labels\\\\train\")\n",
        "\n",
        "    for png in sorted(os.listdir(images_dir)):\n",
        "        img_path = os.path.join(images_dir, png)\n",
        "        # Troca a extensão para .txt\n",
        "        label_name = os.path.splitext(png)[0] + '.txt'\n",
        "        label_path = os.path.join(labels_dir, label_name)\n",
        "        if os.path.exists(label_path):\n",
        "            with open(label_path, 'r') as f:\n",
        "                primeira_linha = f.readline().strip()\n",
        "                if primeira_linha:\n",
        "                    primeiro_numero = primeira_linha.split()[0]\n",
        "                else:\n",
        "                    primeiro_numero = 'Arquivo vazio'\n",
        "        else:\n",
        "            primeiro_numero = 'Arquivo .txt não encontrado'\n",
        "        print(f\"Imagem: {img_path} - Primeiro número do .txt: {primeiro_numero}\")\n",
        "\n",
        "        path_destino = os.path.join(basedir, f\"train\\\\{primeiro_numero}\")\n",
        "        print(f\"Mover: {img_path} - Para: {path_destino}\")\n",
        "        shutil.move(img_path, path_destino)\n",
        "\n",
        "    images_dir = os.path.join(basedir, \"images\\\\val\")\n",
        "    labels_dir = os.path.join(basedir, \"labels\\\\val\")\n",
        "\n",
        "    for png in sorted(os.listdir(images_dir)):\n",
        "        img_path = os.path.join(images_dir, png)\n",
        "        # Troca a extensão para .txt\n",
        "        label_name = os.path.splitext(png)[0] + '.txt'\n",
        "        label_path = os.path.join(labels_dir, label_name)\n",
        "        if os.path.exists(label_path):\n",
        "            with open(label_path, 'r') as f:\n",
        "                primeira_linha = f.readline().strip()\n",
        "                if primeira_linha:\n",
        "                    primeiro_numero = primeira_linha.split()[0]\n",
        "                else:\n",
        "                    primeiro_numero = 'Arquivo vazio'\n",
        "        else:\n",
        "            primeiro_numero = 'Arquivo .txt não encontrado'\n",
        "        print(f\"Imagem: {img_path} - Primeiro número do .txt: {primeiro_numero}\")\n",
        "\n",
        "        path_destino = os.path.join(basedir, f\"val\\\\{primeiro_numero}\")\n",
        "        print(f\"Mover: {img_path} - Para: {path_destino}\")\n",
        "        shutil.move(img_path, path_destino)\n"
      ],
      "id": "f5feb3552dedf405",
      "outputs": [],
      "execution_count": null
    },
    {
      "cell_type": "markdown",
      "source": [
        "**Descrição de cada Parâmetro**"
      ],
      "metadata": {
        "id": "A8PJrI25xTbd"
      },
      "id": "A8PJrI25xTbd"
    },
    {
      "cell_type": "markdown",
      "source": [
        "\n",
        "\n",
        "\n",
        "| Parâmetro    | Tipo    | Exemplo       | Descrição                                                                |\n",
        "| ------------ | ------- | ------------- | ------------------------------------------------------------------------ |\n",
        "| `data`       | `str`   | `'data.yaml'` | Caminho para o arquivo `.yaml` que define o dataset (classes, caminhos). |\n",
        "| `epochs`     | `int`   | `64`         | Número de vezes que o modelo verá todo o conjunto de treino.             |\n",
        "| `batch`      | `int`   | `16`          | Quantidade de imagens processadas por vez (por lote).                    |\n",
        "| `imgsz`      | `int`   | `512`         | Tamanho das imagens (serão redimensionadas para isso).                   |\n",
        "| `mosaic`     | `float` | `1.0`         | Ativa Mosaic augmentation (combina 4 imagens em uma).                    |\n",
        "| `mixup`      | `float` | `0.0`         | Ativa MixUp (mistura duas imagens e rótulos).                            |\n",
        "| `copy_paste` | `float` | `0.1`         | Ativa Copy-Paste augmentation (cola objetos de outras imagens).          |\n",
        "| `device`     | `str`   | `'cuda'`      | Define se vai usar GPU (`'cuda'`) ou CPU (`'cpu'`).                      |\n"
      ],
      "metadata": {
        "id": "uw4BdvM0xANH"
      },
      "id": "uw4BdvM0xANH"
    },
    {
      "metadata": {
        "id": "c1d51578e5d89a96"
      },
      "cell_type": "code",
      "source": [
        "#USO DA YOLO\n",
        "import numpy as np\n",
        "\n",
        "os.environ[\"PYTORCH_CUDA_ALLOC_CONF\"] = \"expandable_segments:True\"\n",
        "torch.cuda.empty_cache()\n",
        "\n",
        "class_names = []\n",
        "n_folds = 5\n",
        "\n",
        "for fold in range(n_folds):\n",
        "    print(f\"\\nTreinando Fold {fold}\")\n",
        "\n",
        "    # Limpa cache da GPU\n",
        "    torch.cuda.empty_cache()\n",
        "\n",
        "    # Carrega modelo YOLOv12 (verifique se yolov12n.pt está no seu diretório)\n",
        "    model = YOLO('yolo11n-cls.pt')\n",
        "\n",
        "    # Caminho para o dataset.yaml do fold atual\n",
        "    data_yaml_path = f\"{folds_base}/fold{fold}/dataset.yaml\"\n",
        "\n",
        "    with open(data_yaml_path, 'r') as f:\n",
        "       data_yaml = yaml.safe_load(f)\n",
        "    class_names = data_yaml.get('names', [])\n",
        "\n",
        "    data_path = f\"{folds_base}/fold{fold}\"\n",
        "\n",
        "    # Treinamento\n",
        "    results = model.train(\n",
        "        data=data_path,\n",
        "        epochs=64,\n",
        "        batch=16,\n",
        "        imgsz=512,\n",
        "        mosaic=1.0,\n",
        "        mixup=0.0,\n",
        "        copy_paste=0.1,\n",
        "        device='cuda'\n",
        "    )\n",
        "\n",
        "    torch.cuda.empty_cache()\n",
        "    print(\"# Validação\")\n",
        "    metrics = model.val()\n",
        "\n",
        "    acuracia = metrics.top1\n",
        "    print(f\"Acurácia: {acuracia:.3f}\")\n",
        "\n",
        "    # Matriz de confusão (geralmente em metrics.confusion_matrix.matrix)\n",
        "    cm = metrics.confusion_matrix.matrix\n",
        "\n",
        "    print(cm)\n",
        "\n",
        "    # Salvar todos os resultados\n",
        "    np.savez(\n",
        "        f\"metricas_fold{fold}.npz\",\n",
        "        acuracia=acuracia,\n",
        "        matriz_confusao=cm,\n",
        "        # salvar precison, f1 e recall\n",
        "    )\n",
        "\n",
        "    print(f\"Fold {fold} salvo com sucesso.\\n\")\n"
      ],
      "id": "c1d51578e5d89a96",
      "outputs": [],
      "execution_count": null
    },
    {
      "metadata": {
        "id": "5e1d5695929be0cb"
      },
      "cell_type": "markdown",
      "source": [
        "# **Avaliação**"
      ],
      "id": "5e1d5695929be0cb"
    },
    {
      "cell_type": "markdown",
      "source": [
        "| Nome                 | O que é                                                                              | Como é calculado                                          |\n",
        "| -------------------- | ------------------------------------------------------------------------------------ | --------------------------------------------------------- |\n",
        "| `fold`               | Número do fold atual na validação cruzada.                                           | Número inteiro (0, 1, 2...)                               |\n",
        "| `acuracia`           | Proporção de previsões corretas entre todas as amostras.                             | `(acertos / total)`                                       |\n",
        "| `macro_precision`    | Média da **precisão** por classe, **sem considerar o tamanho das classes**.          | Média da precisão de cada classe                          |\n",
        "| `macro_recall`       | Média do **recall** por classe, igualmente ponderado.                                | Média do recall de cada classe                            |\n",
        "| `macro_f1`           | Média do **F1-score** por classe (harmônica entre precisão e recall), não ponderada. | Média do F1 de cada classe                                |\n",
        "| `weighted_precision` | Média ponderada da **precisão**, de acordo com o número de amostras por classe.      | Precisão ponderada pelo suporte (quantidade de exemplos)  |\n",
        "| `weighted_recall`    | Média ponderada do **recall**, considerando classes desbalanceadas.                  | Recall ponderado pelo suporte                             |\n",
        "| `weighted_f1`        | Média ponderada do **F1-score**, mais estável com classes desbalanceadas.            | F1-score ponderado pelo suporte                           |\n",
        "| `micro_precision`    | Calcula TP, FP e FN globalmente antes de calcular a **precisão**.                    | Mais preciso quando há muitas classes ou desbalanceamento |\n",
        "| `micro_recall`       | Calcula TP, FN globalmente antes de calcular o **recall**.                           | Útil para multi-classe ou datasets grandes                |\n",
        "| `micro_f1`           | F1-score global, combinando todos os exemplos antes de calcular.                     | Melhor métrica quando há muito desbalanceamento           |\n"
      ],
      "metadata": {
        "id": "h2rBe8s4xoNO"
      },
      "id": "h2rBe8s4xoNO"
    },
    {
      "metadata": {
        "ExecuteTime": {
          "end_time": "2025-05-20T14:59:55.502786Z",
          "start_time": "2025-05-20T14:59:55.481167Z"
        },
        "id": "11d38436caa3cbe8",
        "outputId": "0890c5df-c8bd-4a6e-c4df-687252ba028d"
      },
      "cell_type": "code",
      "source": [
        "import numpy as np\n",
        "\n",
        "def get_confusion_elements(cm, k):\n",
        "    TP = cm[k, k]\n",
        "    FP = cm[:, k].sum() - TP\n",
        "    FN = cm[k, :].sum() - TP\n",
        "    TN = cm.sum() - (TP + FP + FN)\n",
        "    return TP, FP, FN, TN\n",
        "\n",
        "fold_metrics = []\n",
        "\n",
        "for fold in range(5):\n",
        "    data = np.load(f\"metricas_fold{fold}.npz\")\n",
        "    cm = data['matriz_confusao']\n",
        "    acur = data['acuracia']\n",
        "    print(f\"\\nFold {fold} - Matriz de confusão:\")\n",
        "    print(cm)\n",
        "\n",
        "    num_classes = cm.shape[0]\n",
        "    precisions, recalls, f1s, supports = [], [], [], []\n",
        "\n",
        "    for k in range(num_classes):\n",
        "        TP, FP, FN, TN = get_confusion_elements(cm, k)\n",
        "        precision = TP / (TP + FP) if (TP + FP) > 0 else 0\n",
        "        recall = TP / (TP + FN) if (TP + FN) > 0 else 0\n",
        "        f1 = 2 * precision * recall / (precision + recall) if (precision + recall) > 0 else 0\n",
        "        support = cm[k, :].sum()\n",
        "        precisions.append(precision)\n",
        "        recalls.append(recall)\n",
        "        f1s.append(f1)\n",
        "        supports.append(support)\n",
        "\n",
        "    # Macro médias\n",
        "    macro_precision = np.mean(precisions)\n",
        "    macro_recall = np.mean(recalls)\n",
        "    macro_f1 = np.mean(f1s)\n",
        "\n",
        "    # Weighted médias\n",
        "    total_support = np.sum(supports)\n",
        "    weighted_precision = np.sum(np.array(precisions) * supports) / total_support\n",
        "    weighted_recall = np.sum(np.array(recalls) * supports) / total_support\n",
        "    weighted_f1 = np.sum(np.array(f1s) * supports) / total_support\n",
        "\n",
        "    # Micro médias\n",
        "    TP_total = sum(get_confusion_elements(cm, k)[0] for k in range(num_classes))\n",
        "    FP_total = sum(get_confusion_elements(cm, k)[1] for k in range(num_classes))\n",
        "    FN_total = sum(get_confusion_elements(cm, k)[2] for k in range(num_classes))\n",
        "    micro_precision = TP_total / (TP_total + FP_total) if (TP_total + FP_total) > 0 else 0\n",
        "    micro_recall = TP_total / (TP_total + FN_total) if (TP_total + FN_total) > 0 else 0\n",
        "    micro_f1 = 2 * micro_precision * micro_recall / (micro_precision + micro_recall) if (micro_precision + micro_recall) > 0 else 0\n",
        "\n",
        "    # Armazene os resultados do fold\n",
        "    fold_metrics.append({\n",
        "        'fold': fold,\n",
        "        'acuracia': acur,\n",
        "        'macro_precision': macro_precision,\n",
        "        'macro_recall': macro_recall,\n",
        "        'macro_f1': macro_f1,\n",
        "        'weighted_precision': weighted_precision,\n",
        "        'weighted_recall': weighted_recall,\n",
        "        'weighted_f1': weighted_f1,\n",
        "        'micro_precision': micro_precision,\n",
        "        'micro_recall': micro_recall,\n",
        "        'micro_f1': micro_f1\n",
        "    })\n",
        "\n",
        "# Exemplo de como acessar os resultados:\n",
        "for m in fold_metrics:\n",
        "    print(f\"\\nFold {m['fold']}:\")\n",
        "    print(f\"  Acuracia: {m['acuracia']:.3f}\")\n",
        "    print(f\"  Macro Precision: {m['macro_precision']:.3f}\")\n",
        "    print(f\"  Weighted Precision: {m['weighted_precision']:.3f}\")\n",
        "    print(f\"  Micro Precision: {m['micro_precision']:.3f}\")\n",
        "    print(f\"  Macro Recall: {m['macro_recall']:.3f}\")\n",
        "    print(f\"  Weighted Recall: {m['weighted_recall']:.3f}\")\n",
        "    print(f\"  Micro Recall: {m['micro_recall']:.3f}\")\n",
        "    print(f\"  Macro F1: {m['macro_f1']:.3f}\")\n",
        "    print(f\"  Weighted F1: {m['weighted_f1']:.3f}\")\n",
        "    print(f\"  Micro F1: {m['micro_f1']:.3f}\")\n",
        "\n",
        "metricas = ['acuracia', 'macro_precision', 'weighted_precision', 'micro_precision',\n",
        "            'macro_recall', 'weighted_recall', 'micro_recall',\n",
        "            'macro_f1', 'weighted_f1', 'micro_f1']\n",
        "\n",
        "for metrica in metricas:\n",
        "    valores = [m[metrica] for m in fold_metrics]\n",
        "    media = np.mean(valores)\n",
        "    desvio = np.std(valores)\n",
        "    print(f\"{metrica}: média = {media:.3f}, desvio = {desvio:.3f}\")"
      ],
      "id": "11d38436caa3cbe8",
      "outputs": [
        {
          "name": "stdout",
          "output_type": "stream",
          "text": [
            "\n",
            "Fold 0 - Matriz de confusão:\n",
            "[[16.  0.  3.  0.]\n",
            " [ 0. 28.  0.  4.]\n",
            " [ 8.  0. 46.  0.]\n",
            " [ 0.  2.  0. 20.]]\n",
            "\n",
            "Fold 1 - Matriz de confusão:\n",
            "[[13.  0.  0.  0.]\n",
            " [ 0. 33.  0.  6.]\n",
            " [ 5.  0. 50.  0.]\n",
            " [ 0.  2.  0. 18.]]\n",
            "\n",
            "Fold 2 - Matriz de confusão:\n",
            "[[14.  0.  9.  0.]\n",
            " [ 0. 39.  0.  3.]\n",
            " [ 4.  0. 34.  0.]\n",
            " [ 0.  3.  0. 21.]]\n",
            "\n",
            "Fold 3 - Matriz de confusão:\n",
            "[[ 8.  0.  2.  0.]\n",
            " [ 0. 35.  0.  2.]\n",
            " [ 4.  0. 44.  0.]\n",
            " [ 0.  1.  0. 31.]]\n",
            "\n",
            "Fold 4 - Matriz de confusão:\n",
            "[[18.  0.  6.  0.]\n",
            " [ 0. 22.  0.  3.]\n",
            " [ 3.  0. 46.  0.]\n",
            " [ 0.  3.  0. 25.]]\n",
            "\n",
            "Fold 0:\n",
            "  Acuracia: 0.866\n",
            "  Macro Precision: 0.843\n",
            "  Weighted Precision: 0.878\n",
            "  Micro Precision: 0.866\n",
            "  Macro Recall: 0.870\n",
            "  Weighted Recall: 0.866\n",
            "  Micro Recall: 0.866\n",
            "  Macro F1: 0.853\n",
            "  Weighted F1: 0.869\n",
            "  Micro F1: 0.866\n",
            "\n",
            "Fold 1:\n",
            "  Acuracia: 0.898\n",
            "  Macro Precision: 0.854\n",
            "  Weighted Precision: 0.915\n",
            "  Micro Precision: 0.898\n",
            "  Macro Recall: 0.914\n",
            "  Weighted Recall: 0.898\n",
            "  Micro Recall: 0.898\n",
            "  Macro F1: 0.875\n",
            "  Weighted F1: 0.901\n",
            "  Micro F1: 0.898\n",
            "\n",
            "Fold 2:\n",
            "  Acuracia: 0.850\n",
            "  Macro Precision: 0.843\n",
            "  Weighted Precision: 0.850\n",
            "  Micro Precision: 0.850\n",
            "  Macro Recall: 0.827\n",
            "  Weighted Recall: 0.850\n",
            "  Micro Recall: 0.850\n",
            "  Macro F1: 0.832\n",
            "  Weighted F1: 0.847\n",
            "  Micro F1: 0.850\n",
            "\n",
            "Fold 3:\n",
            "  Acuracia: 0.929\n",
            "  Macro Precision: 0.884\n",
            "  Weighted Precision: 0.934\n",
            "  Micro Precision: 0.929\n",
            "  Macro Recall: 0.908\n",
            "  Weighted Recall: 0.929\n",
            "  Micro Recall: 0.929\n",
            "  Macro F1: 0.894\n",
            "  Weighted F1: 0.931\n",
            "  Micro F1: 0.929\n",
            "\n",
            "Fold 4:\n",
            "  Acuracia: 0.881\n",
            "  Macro Precision: 0.879\n",
            "  Weighted Precision: 0.880\n",
            "  Micro Precision: 0.881\n",
            "  Macro Recall: 0.865\n",
            "  Weighted Recall: 0.881\n",
            "  Micro Recall: 0.881\n",
            "  Macro F1: 0.871\n",
            "  Weighted F1: 0.880\n",
            "  Micro F1: 0.881\n",
            "acuracia: média = 0.885, desvio = 0.027\n",
            "macro_precision: média = 0.860, desvio = 0.017\n",
            "weighted_precision: média = 0.891, desvio = 0.030\n",
            "micro_precision: média = 0.885, desvio = 0.027\n",
            "macro_recall: média = 0.877, desvio = 0.032\n",
            "weighted_recall: média = 0.885, desvio = 0.027\n",
            "micro_recall: média = 0.885, desvio = 0.027\n",
            "macro_f1: média = 0.865, desvio = 0.021\n",
            "weighted_f1: média = 0.886, desvio = 0.028\n",
            "micro_f1: média = 0.885, desvio = 0.027\n"
          ]
        }
      ],
      "execution_count": null
    },
    {
      "metadata": {
        "ExecuteTime": {
          "end_time": "2025-05-20T04:32:11.642031200Z",
          "start_time": "2025-05-20T02:21:16.049470Z"
        },
        "id": "75a4195e573a8b96"
      },
      "cell_type": "code",
      "source": [],
      "id": "75a4195e573a8b96",
      "outputs": [],
      "execution_count": null
    },
    {
      "metadata": {
        "id": "939653555d100eb2"
      },
      "cell_type": "code",
      "outputs": [],
      "execution_count": null,
      "source": [],
      "id": "939653555d100eb2"
    }
  ],
  "metadata": {
    "kernelspec": {
      "display_name": "Python 3",
      "language": "python",
      "name": "python3"
    },
    "language_info": {
      "codemirror_mode": {
        "name": "ipython",
        "version": 2
      },
      "file_extension": ".py",
      "mimetype": "text/x-python",
      "name": "python",
      "nbconvert_exporter": "python",
      "pygments_lexer": "ipython2",
      "version": "2.7.6"
    },
    "colab": {
      "provenance": []
    }
  },
  "nbformat": 4,
  "nbformat_minor": 5
}